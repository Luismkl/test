{
 "cells": [
  {
   "cell_type": "code",
   "execution_count": 1,
   "id": "5cb7f2c7",
   "metadata": {},
   "outputs": [
    {
     "data": {
      "text/plain": [
       "5"
      ]
     },
     "execution_count": 1,
     "metadata": {},
     "output_type": "execute_result"
    }
   ],
   "source": [
    "x=2\n",
    "y=3\n",
    "x+y\n"
   ]
  },
  {
   "cell_type": "code",
   "execution_count": null,
   "id": "adf8887f",
   "metadata": {},
   "outputs": [],
   "source": []
  },
  {
   "cell_type": "markdown",
   "id": "6083543e",
   "metadata": {},
   "source": [
    "sdakfkldsajfksjdfk\n",
    "sadfdsf"
   ]
  },
  {
   "cell_type": "code",
   "execution_count": null,
   "id": "9d235e00",
   "metadata": {},
   "outputs": [],
   "source": [
    "elkads\n"
   ]
  }
 ],
 "metadata": {
  "kernelspec": {
   "display_name": "ML4B",
   "language": "python",
   "name": "ml4b"
  },
  "language_info": {
   "codemirror_mode": {
    "name": "ipython",
    "version": 3
   },
   "file_extension": ".py",
   "mimetype": "text/x-python",
   "name": "python",
   "nbconvert_exporter": "python",
   "pygments_lexer": "ipython3",
   "version": "3.12.3"
  }
 },
 "nbformat": 4,
 "nbformat_minor": 5
}
